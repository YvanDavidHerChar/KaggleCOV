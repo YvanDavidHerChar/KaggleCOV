{
 "cells": [
  {
   "cell_type": "markdown",
   "metadata": {},
   "source": [
    "In this notebook, we will try to focus in the US dynamic to be able to determine the virus mobility as well as it's R factor depending on different local factors. The use of this notebook is diagnosis on the effectivness of certain measures on the R factor as well as. "
   ]
  },
  {
   "cell_type": "code",
   "execution_count": null,
   "metadata": {},
   "outputs": [],
   "source": [
    "#Los clasicos\n",
    "import numpy as np\n",
    "import matplotlib.pyplot as plt\n",
    "import pandas as pd # para leer datos\n",
    "import sklearn.manifold\n",
    "import glob\n",
    "from sklearn.model_selection import train_test_split\n",
    "from sklearn.preprocessing import StandardScaler\n",
    "from sklearn.utils import check_random_state\n",
    "from sklearn.metrics import f1_score\n",
    "#Ejercicio 16\n",
    "import sklearn.metrics\n",
    "import sklearn.tree\n",
    "#Ejercicio 24\n",
    "from sklearn.linear_model import LogisticRegression\n",
    "import sklearn.neural_network\n",
    "#Ejercicio 20, clusters umap\n",
    "import sklearn.cluster\n",
    "\n",
    "#Puede ser interesante el ejercicio 8 para fitear usando bayes, 7 con MCMH .\n",
    "#No se me puede olvidar la de precondiciones del cdc"
   ]
  },
  {
   "cell_type": "code",
   "execution_count": null,
   "metadata": {},
   "outputs": [],
   "source": [
    "folderset = [folder for folder in glob.glob(\"Uncover/\" + \"**/\", recursive=True)]\n"
   ]
  }
 ],
 "metadata": {
  "kernelspec": {
   "display_name": "Python 3",
   "language": "python",
   "name": "python3"
  },
  "language_info": {
   "codemirror_mode": {
    "name": "ipython",
    "version": 3
   },
   "file_extension": ".py",
   "mimetype": "text/x-python",
   "name": "python",
   "nbconvert_exporter": "python",
   "pygments_lexer": "ipython3",
   "version": "3.7.6"
  }
 },
 "nbformat": 4,
 "nbformat_minor": 4
}
