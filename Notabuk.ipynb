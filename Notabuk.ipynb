{
 "cells": [
  {
   "cell_type": "markdown",
   "metadata": {},
   "source": [
    "In this notebook, we will try to focus in the US dynamic to be able to determine the virus mobility as well as it's R factor depending on different local factors. The use of this notebook is diagnosis on the effectivness of certain measures on the R factor as well as. "
   ]
  },
  {
   "cell_type": "code",
   "execution_count": 1,
   "metadata": {},
   "outputs": [],
   "source": [
    "#Los clasicos\n",
    "import numpy as np\n",
    "import matplotlib.pyplot as plt\n",
    "import pandas as pd # para leer datos\n",
    "import sklearn.manifold\n",
    "import glob\n",
    "from sklearn.model_selection import train_test_split\n",
    "from sklearn.preprocessing import StandardScaler\n",
    "from sklearn.utils import check_random_state\n",
    "from sklearn.metrics import f1_score\n",
    "#Ejercicio 16\n",
    "import sklearn.metrics\n",
    "import sklearn.tree\n",
    "#Ejercicio 24\n",
    "from sklearn.linear_model import LogisticRegression\n",
    "import sklearn.neural_network\n",
    "#Ejercicio 20, clusters umap\n",
    "import sklearn.cluster\n",
    "\n",
    "#Puede ser interesante el ejercicio 8 para fitear usando bayes, 7 con MCMH .\n",
    "#No se me puede olvidar la de precondiciones del cdc"
   ]
  },
  {
   "cell_type": "markdown",
   "metadata": {},
   "source": [
    "One of the biggest problems is to organize our data. The Uncover library has a TON of data. Let's try to make out some cateogries. "
   ]
  },
  {
   "cell_type": "code",
   "execution_count": 49,
   "metadata": {},
   "outputs": [],
   "source": [
    "folderset = [folder for folder in glob.glob(\"Uncover/\" + \"**/\", recursive=True)]\n",
    "\n",
    "mobility = [folderset[10], folderset[13], folderset[2]]\n",
    "ressources = [folderset[1], folderset[4], folderset[15], folderset[5]]\n",
    "healthcareData = [folderset[7],folderset[11]]\n",
    "covidData = [folderset[3],folderset[6],folderset[8],folderset[14]]\n",
    "OtherFacilities = [folderset[16]]\n",
    "\n",
    "csv_Mobility = []\n",
    "csv_ressources = []\n",
    "csv_health = []\n",
    "csv_covid = []\n",
    "csv_otherFacilities = []"
   ]
  },
  {
   "cell_type": "code",
   "execution_count": 50,
   "metadata": {},
   "outputs": [
    {
     "name": "stdout",
     "output_type": "stream",
     "text": [
      "\n",
      " Mobility \n",
      "\n",
      "Uncover/geotab/border-wait-times-at-us-canada-border.csv\n",
      "Uncover/geotab/airport-traffic-analysis.csv\n",
      "Uncover/google_mobility/us-mobility.csv\n",
      "Uncover/un_world_food_programme/world-travel-restrictions.csv\n",
      "\n",
      " Ressources \n",
      "\n",
      "Uncover/hifld/us-ports-of-entry.csv\n",
      "Uncover/hifld/nursing-homes.csv\n",
      "Uncover/hifld/hospitals.csv\n",
      "Uncover/hifld/local-emergency-operations-centers-eoc.csv\n",
      "Uncover/hifld/public-health-departments.csv\n",
      "Uncover/hifld/urgent-care-facilities.csv\n",
      "Uncover/hifld/aircraft-landing-facilities.csv\n",
      "Uncover/esri_covid-19/definitive-healthcare-usa-hospital-beds.csv\n",
      "Uncover/harvard_global_health_institute/hospital-capacity-by-state-40-population-contracted.csv\n",
      "Uncover/harvard_global_health_institute/hospital-capacity-by-state-60-population-contracted.csv\n",
      "Uncover/harvard_global_health_institute/hospital-capacity-by-state-20-population-contracted.csv\n",
      "Uncover/county_health_rankings/us-county-health-rankings-2020.csv\n",
      "\n",
      " Healthcare Data \n",
      "\n",
      "Uncover/oecd/health-care-utilization.csv\n",
      "Uncover/oecd/influenza-vaccination-rates.csv\n",
      "Uncover/us_cdc/nutrition-physical-activity-and-obesity-behavioral-risk-factor-surveillance-system.csv\n",
      "Uncover/us_cdc/500-cities-census-tract-level-data-gis-friendly-format-2019-release.csv\n",
      "Uncover/us_cdc/global-tobacco-surveillance-system-gtss-global-youth-tobacco-survey-gyts.csv\n",
      "Uncover/us_cdc/global-tobacco-surveillance-system-gtss-global-adult-tobacco-survey-gats.csv\n",
      "\n",
      " Covid \n",
      "\n",
      "Uncover/HDE/total-covid-19-tests-performed-by-country.csv\n",
      "Uncover/HDE/acaps-covid-19-government-measures-dataset.csv\n",
      "Uncover/HDE/global-school-closures-covid-19.csv\n",
      "Uncover/world_bank/total-covid-19-tests-performed-by-country.csv\n",
      "Uncover/covid_tracking_project/covid-statistics-for-all-us-daily-updates.csv\n",
      "Uncover/covid_tracking_project/covid-statistics-for-all-us-totals.csv\n",
      "Uncover/covid_tracking_project/covid-statistics-totals-for-all-of-us.csv\n",
      "Uncover/covid_tracking_project/covid-sources-for-us-states.csv\n",
      "Uncover/covid_tracking_project/covid-statistics-by-us-states-daily-updates.csv\n",
      "Uncover/covid_tracking_project/covid-statistics-by-us-states-totals.csv\n",
      "Uncover/covid_tracking_project/covid-sources-for-counties.csv\n",
      "Uncover/New_York_Times/covid-19-county-level-data.csv\n",
      "Uncover/New_York_Times/covid-19-state-level-data.csv\n",
      "\n",
      " OtherFacilities \n",
      "\n",
      "Uncover/OpenTable/restaurant-performance.csv\n",
      "['Uncover/OpenTable/restaurant-performance.csv', 'Uncover/HDE/global-school-closures-covid-19.csv']\n"
     ]
    }
   ],
   "source": [
    "#Mobility\n",
    "print(\"\\n Mobility \\n\")\n",
    "num_carpetas = len(mobility)\n",
    "for i in range(num_carpetas):\n",
    "    folder_here = mobility[i] + '*'\n",
    "    for name in glob.glob(folder_here):\n",
    "        print(name)\n",
    "        csv_Mobility.append(name)\n",
    "#ressources\n",
    "print(\"\\n Ressources \\n\")\n",
    "num_carpetas = len(ressources)\n",
    "for i in range(num_carpetas):\n",
    "    folder_here = ressources[i] + '*'\n",
    "    for name in glob.glob(folder_here):\n",
    "        print(name)\n",
    "        csv_ressources.append(name)\n",
    "#Healthcare\n",
    "print(\"\\n Healthcare Data \\n\")\n",
    "num_carpetas = len(healthcareData)\n",
    "for i in range(num_carpetas):\n",
    "    folder_here = healthcareData[i] + '*'\n",
    "    for name in glob.glob(folder_here):\n",
    "        print(name)\n",
    "        csv_health.append(name)\n",
    "#Covid \n",
    "print(\"\\n Covid \\n\")\n",
    "num_carpetas = len(covidData)\n",
    "for i in range(num_carpetas):\n",
    "    folder_here = covidData[i] + '*'\n",
    "    for name in glob.glob(folder_here):\n",
    "        print(name)\n",
    "        csv_covid.append(name)\n",
    "#OtherFacilities\n",
    "print(\"\\n OtherFacilities \\n\")\n",
    "num_carpetas = len(OtherFacilities)\n",
    "for i in range(num_carpetas):\n",
    "    folder_here = OtherFacilities[i] + '*'\n",
    "    for name in glob.glob(folder_here):\n",
    "        print(name)\n",
    "        csv_otherFacilities.append(name)\n",
    "                \n",
    "#We realize that the the school file should be in OtherFacilities\n",
    "\n",
    "csv_otherFacilities.append(csv_covid.pop(2))\n",
    "\n",
    "print(csv_otherFacilities)"
   ]
  },
  {
   "cell_type": "markdown",
   "metadata": {},
   "source": [
    "Now it is possible to attack one problem at the time. Let's start by developing visualization of the mobility data.  "
   ]
  },
  {
   "cell_type": "code",
   "execution_count": null,
   "metadata": {},
   "outputs": [],
   "source": [
    "data = []\n",
    "Y = []\n",
    "largo = len(folderset)\n",
    "for i in range(largo):\n",
    "    fruta = folderset[i]\n",
    "    imagenes = glob.glob(\"{}/*.jpg\".format(fruta))\n",
    "    print(str(i) +' Fruta')"
   ]
  },
  {
   "cell_type": "code",
   "execution_count": 39,
   "metadata": {},
   "outputs": [
    {
     "name": "stdout",
     "output_type": "stream",
     "text": [
      "['Uncover/OpenTable/restaurant-performance.csv']\n"
     ]
    }
   ],
   "source": [
    "print(csv_restaurants)"
   ]
  },
  {
   "cell_type": "code",
   "execution_count": 9,
   "metadata": {},
   "outputs": [
    {
     "data": {
      "text/plain": [
       "['Uncover/',\n",
       " 'Uncover/hifld/',\n",
       " 'Uncover/un_world_food_programme/',\n",
       " 'Uncover/HDE/',\n",
       " 'Uncover/esri_covid-19/',\n",
       " 'Uncover/county_health_rankings/',\n",
       " 'Uncover/world_bank/',\n",
       " 'Uncover/oecd/',\n",
       " 'Uncover/covid_tracking_project/',\n",
       " 'Uncover/USAFacts/',\n",
       " 'Uncover/geotab/',\n",
       " 'Uncover/us_cdc/',\n",
       " 'Uncover/ihme/',\n",
       " 'Uncover/google_mobility/',\n",
       " 'Uncover/New_York_Times/',\n",
       " 'Uncover/harvard_global_health_institute/',\n",
       " 'Uncover/OpenTable/']"
      ]
     },
     "execution_count": 9,
     "metadata": {},
     "output_type": "execute_result"
    }
   ],
   "source": [
    "folderset"
   ]
  },
  {
   "cell_type": "code",
   "execution_count": null,
   "metadata": {},
   "outputs": [],
   "source": []
  }
 ],
 "metadata": {
  "kernelspec": {
   "display_name": "Python 3",
   "language": "python",
   "name": "python3"
  },
  "language_info": {
   "codemirror_mode": {
    "name": "ipython",
    "version": 3
   },
   "file_extension": ".py",
   "mimetype": "text/x-python",
   "name": "python",
   "nbconvert_exporter": "python",
   "pygments_lexer": "ipython3",
   "version": "3.7.6"
  }
 },
 "nbformat": 4,
 "nbformat_minor": 4
}
